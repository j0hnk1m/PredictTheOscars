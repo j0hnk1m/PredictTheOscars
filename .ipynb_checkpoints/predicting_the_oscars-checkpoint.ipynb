{
 "cells": [
  {
   "cell_type": "markdown",
   "metadata": {},
   "source": [
    "# PTO - Predicting the Oscars\n"
   ]
  },
  {
   "cell_type": "markdown",
   "metadata": {},
   "source": [
    "![Who will be the Oscar nominees and winners?](./oscars.jpg)"
   ]
  },
  {
   "cell_type": "markdown",
   "metadata": {},
   "source": [
    "This notebook covers my progress on building an algorithm to accurately predict Oscar results. Not just the winners based on the nominees in each category, but also which movies will be nominees based on all of the movies released that year. The project repository can be cloned at https://github.com/j0hnk1m/predict-the-oscars if you're interested.\n",
    "\n",
    "This mini-project only lasted for a month, so it may not be perfect. Hopefully, you guys can use this as a platform to get even better predictions. Let's dig in! I'll be using Anaconda Python 3.7. You may need to import a few packages yourself, however, using conda install {package}\n",
    "\n",
    "There are 4 major sections to cover:\n",
    "1. Data Collection\n",
    "2. Data Organization/Manipulation\n",
    "3. The Algorithm\n",
    "4. Algorithm Optimization"
   ]
  },
  {
   "cell_type": "markdown",
   "metadata": {},
   "source": [
    "## 1. Data Collection"
   ]
  },
  {
   "cell_type": "markdown",
   "metadata": {},
   "source": [
    "### 1.1 The BIGML dataset"
   ]
  },
  {
   "cell_type": "markdown",
   "metadata": {},
   "source": [
    "First things first, general imports first"
   ]
  },
  {
   "cell_type": "code",
   "execution_count": 18,
   "metadata": {},
   "outputs": [],
   "source": [
    "import pandas as pd\n",
    "import numpy as np\n",
    "import os"
   ]
  },
  {
   "cell_type": "markdown",
   "metadata": {},
   "source": [
    "I came across this dataset from https://bigml.com/user/academy_awards/gallery/dataset/5c6886e1eba31d73070017f5, which contained a list of movies from 2000~2018 and their details, including release year, movie_id (IMDB), certificate, duration, genre, IMDB rating, etc.\n",
    "\n",
    "Here's what it looks like:"
   ]
  },
  {
   "cell_type": "code",
   "execution_count": 19,
   "metadata": {},
   "outputs": [
    {
     "name": "stdout",
     "output_type": "stream",
     "text": [
      "(1235, 119)\n"
     ]
    },
    {
     "data": {
      "text/html": [
       "<div>\n",
       "<style scoped>\n",
       "    .dataframe tbody tr th:only-of-type {\n",
       "        vertical-align: middle;\n",
       "    }\n",
       "\n",
       "    .dataframe tbody tr th {\n",
       "        vertical-align: top;\n",
       "    }\n",
       "\n",
       "    .dataframe thead th {\n",
       "        text-align: right;\n",
       "    }\n",
       "</style>\n",
       "<table border=\"1\" class=\"dataframe\">\n",
       "  <thead>\n",
       "    <tr style=\"text-align: right;\">\n",
       "      <th></th>\n",
       "      <th>year</th>\n",
       "      <th>movie</th>\n",
       "      <th>movie_id</th>\n",
       "      <th>certificate</th>\n",
       "      <th>duration</th>\n",
       "      <th>genre</th>\n",
       "      <th>rate</th>\n",
       "      <th>metascore</th>\n",
       "      <th>synopsis</th>\n",
       "      <th>votes</th>\n",
       "      <th>...</th>\n",
       "      <th>New_York_Film_Critics_Circle_nominated</th>\n",
       "      <th>New_York_Film_Critics_Circle_nominated_categories</th>\n",
       "      <th>Los_Angeles_Film_Critics_Association_won</th>\n",
       "      <th>Los_Angeles_Film_Critics_Association_won_categories</th>\n",
       "      <th>Los_Angeles_Film_Critics_Association_nominated</th>\n",
       "      <th>Los_Angeles_Film_Critics_Association_nominated_categories</th>\n",
       "      <th>release_date.year</th>\n",
       "      <th>release_date.month</th>\n",
       "      <th>release_date.day-of-month</th>\n",
       "      <th>release_date.day-of-week</th>\n",
       "    </tr>\n",
       "  </thead>\n",
       "  <tbody>\n",
       "    <tr>\n",
       "      <th>0</th>\n",
       "      <td>2001</td>\n",
       "      <td>Kate &amp; Leopold</td>\n",
       "      <td>tt0035423</td>\n",
       "      <td>PG-13</td>\n",
       "      <td>118</td>\n",
       "      <td>Comedy|Fantasy|Romance</td>\n",
       "      <td>6.4</td>\n",
       "      <td>44.0</td>\n",
       "      <td>An English Duke from 1876 is inadvertedly drag...</td>\n",
       "      <td>66660</td>\n",
       "      <td>...</td>\n",
       "      <td>0</td>\n",
       "      <td>NaN</td>\n",
       "      <td>0</td>\n",
       "      <td>NaN</td>\n",
       "      <td>0</td>\n",
       "      <td>NaN</td>\n",
       "      <td>2001.0</td>\n",
       "      <td>12.0</td>\n",
       "      <td>25.0</td>\n",
       "      <td>2.0</td>\n",
       "    </tr>\n",
       "    <tr>\n",
       "      <th>1</th>\n",
       "      <td>2000</td>\n",
       "      <td>Chicken Run</td>\n",
       "      <td>tt0120630</td>\n",
       "      <td>G</td>\n",
       "      <td>84</td>\n",
       "      <td>Animation|Adventure|Comedy</td>\n",
       "      <td>7.0</td>\n",
       "      <td>88.0</td>\n",
       "      <td>When a cockerel apparently flies into a chicke...</td>\n",
       "      <td>144475</td>\n",
       "      <td>...</td>\n",
       "      <td>1</td>\n",
       "      <td>Best Animated Film</td>\n",
       "      <td>1</td>\n",
       "      <td>Best Animation</td>\n",
       "      <td>1</td>\n",
       "      <td>Best Animation</td>\n",
       "      <td>2000.0</td>\n",
       "      <td>6.0</td>\n",
       "      <td>23.0</td>\n",
       "      <td>5.0</td>\n",
       "    </tr>\n",
       "    <tr>\n",
       "      <th>2</th>\n",
       "      <td>2005</td>\n",
       "      <td>Fantastic Four</td>\n",
       "      <td>tt0120667</td>\n",
       "      <td>PG-13</td>\n",
       "      <td>106</td>\n",
       "      <td>Action|Adventure|Family</td>\n",
       "      <td>5.7</td>\n",
       "      <td>40.0</td>\n",
       "      <td>A group of astronauts gain superpowers after a...</td>\n",
       "      <td>273203</td>\n",
       "      <td>...</td>\n",
       "      <td>0</td>\n",
       "      <td>NaN</td>\n",
       "      <td>0</td>\n",
       "      <td>NaN</td>\n",
       "      <td>0</td>\n",
       "      <td>NaN</td>\n",
       "      <td>2005.0</td>\n",
       "      <td>7.0</td>\n",
       "      <td>8.0</td>\n",
       "      <td>5.0</td>\n",
       "    </tr>\n",
       "    <tr>\n",
       "      <th>3</th>\n",
       "      <td>2002</td>\n",
       "      <td>Frida</td>\n",
       "      <td>tt0120679</td>\n",
       "      <td>R</td>\n",
       "      <td>123</td>\n",
       "      <td>Biography|Drama|Romance</td>\n",
       "      <td>7.4</td>\n",
       "      <td>61.0</td>\n",
       "      <td>A biography of artist Frida Kahlo, who channel...</td>\n",
       "      <td>63852</td>\n",
       "      <td>...</td>\n",
       "      <td>0</td>\n",
       "      <td>NaN</td>\n",
       "      <td>0</td>\n",
       "      <td>NaN</td>\n",
       "      <td>0</td>\n",
       "      <td>NaN</td>\n",
       "      <td>2002.0</td>\n",
       "      <td>11.0</td>\n",
       "      <td>22.0</td>\n",
       "      <td>5.0</td>\n",
       "    </tr>\n",
       "    <tr>\n",
       "      <th>4</th>\n",
       "      <td>2001</td>\n",
       "      <td>The Lord of the Rings: The Fellowship of the Ring</td>\n",
       "      <td>tt0120737</td>\n",
       "      <td>PG-13</td>\n",
       "      <td>178</td>\n",
       "      <td>Adventure|Drama|Fantasy</td>\n",
       "      <td>8.8</td>\n",
       "      <td>92.0</td>\n",
       "      <td>A meek Hobbit from the Shire and eight compani...</td>\n",
       "      <td>1286275</td>\n",
       "      <td>...</td>\n",
       "      <td>0</td>\n",
       "      <td>NaN</td>\n",
       "      <td>1</td>\n",
       "      <td>Best Music</td>\n",
       "      <td>2</td>\n",
       "      <td>Best Music|Best Production Design</td>\n",
       "      <td>2001.0</td>\n",
       "      <td>12.0</td>\n",
       "      <td>19.0</td>\n",
       "      <td>3.0</td>\n",
       "    </tr>\n",
       "  </tbody>\n",
       "</table>\n",
       "<p>5 rows × 119 columns</p>\n",
       "</div>"
      ],
      "text/plain": [
       "   year                                              movie   movie_id  \\\n",
       "0  2001                                     Kate & Leopold  tt0035423   \n",
       "1  2000                                        Chicken Run  tt0120630   \n",
       "2  2005                                     Fantastic Four  tt0120667   \n",
       "3  2002                                              Frida  tt0120679   \n",
       "4  2001  The Lord of the Rings: The Fellowship of the Ring  tt0120737   \n",
       "\n",
       "  certificate  duration                       genre  rate  metascore  \\\n",
       "0       PG-13       118      Comedy|Fantasy|Romance   6.4       44.0   \n",
       "1           G        84  Animation|Adventure|Comedy   7.0       88.0   \n",
       "2       PG-13       106     Action|Adventure|Family   5.7       40.0   \n",
       "3           R       123     Biography|Drama|Romance   7.4       61.0   \n",
       "4       PG-13       178     Adventure|Drama|Fantasy   8.8       92.0   \n",
       "\n",
       "                                            synopsis    votes  ...  \\\n",
       "0  An English Duke from 1876 is inadvertedly drag...    66660  ...   \n",
       "1  When a cockerel apparently flies into a chicke...   144475  ...   \n",
       "2  A group of astronauts gain superpowers after a...   273203  ...   \n",
       "3  A biography of artist Frida Kahlo, who channel...    63852  ...   \n",
       "4  A meek Hobbit from the Shire and eight compani...  1286275  ...   \n",
       "\n",
       "   New_York_Film_Critics_Circle_nominated  \\\n",
       "0                                       0   \n",
       "1                                       1   \n",
       "2                                       0   \n",
       "3                                       0   \n",
       "4                                       0   \n",
       "\n",
       "  New_York_Film_Critics_Circle_nominated_categories  \\\n",
       "0                                               NaN   \n",
       "1                                Best Animated Film   \n",
       "2                                               NaN   \n",
       "3                                               NaN   \n",
       "4                                               NaN   \n",
       "\n",
       "   Los_Angeles_Film_Critics_Association_won  \\\n",
       "0                                         0   \n",
       "1                                         1   \n",
       "2                                         0   \n",
       "3                                         0   \n",
       "4                                         1   \n",
       "\n",
       "   Los_Angeles_Film_Critics_Association_won_categories  \\\n",
       "0                                                NaN     \n",
       "1                                     Best Animation     \n",
       "2                                                NaN     \n",
       "3                                                NaN     \n",
       "4                                         Best Music     \n",
       "\n",
       "   Los_Angeles_Film_Critics_Association_nominated  \\\n",
       "0                                               0   \n",
       "1                                               1   \n",
       "2                                               0   \n",
       "3                                               0   \n",
       "4                                               2   \n",
       "\n",
       "   Los_Angeles_Film_Critics_Association_nominated_categories  \\\n",
       "0                                                NaN           \n",
       "1                                     Best Animation           \n",
       "2                                                NaN           \n",
       "3                                                NaN           \n",
       "4                  Best Music|Best Production Design           \n",
       "\n",
       "   release_date.year release_date.month release_date.day-of-month  \\\n",
       "0             2001.0               12.0                      25.0   \n",
       "1             2000.0                6.0                      23.0   \n",
       "2             2005.0                7.0                       8.0   \n",
       "3             2002.0               11.0                      22.0   \n",
       "4             2001.0               12.0                      19.0   \n",
       "\n",
       "  release_date.day-of-week  \n",
       "0                      2.0  \n",
       "1                      5.0  \n",
       "2                      5.0  \n",
       "3                      5.0  \n",
       "4                      3.0  \n",
       "\n",
       "[5 rows x 119 columns]"
      ]
     },
     "execution_count": 19,
     "metadata": {},
     "output_type": "execute_result"
    }
   ],
   "source": [
    "bigml = pd.read_csv('./data/BigML_Dataset_5ccb3e8ddb8b1d0886002d22.csv')\n",
    "print(bigml.shape)\n",
    "bigml.head(5)"
   ]
  },
  {
   "cell_type": "markdown",
   "metadata": {},
   "source": [
    "And each of the 1235 movies in this dataset has a lot of variables (119). If we print all of them out:"
   ]
  },
  {
   "cell_type": "code",
   "execution_count": 20,
   "metadata": {},
   "outputs": [
    {
     "name": "stdout",
     "output_type": "stream",
     "text": [
      "Index(['year', 'movie', 'movie_id', 'certificate', 'duration', 'genre', 'rate',\n",
      "       'metascore', 'synopsis', 'votes',\n",
      "       ...\n",
      "       'New_York_Film_Critics_Circle_nominated',\n",
      "       'New_York_Film_Critics_Circle_nominated_categories',\n",
      "       'Los_Angeles_Film_Critics_Association_won',\n",
      "       'Los_Angeles_Film_Critics_Association_won_categories',\n",
      "       'Los_Angeles_Film_Critics_Association_nominated',\n",
      "       'Los_Angeles_Film_Critics_Association_nominated_categories',\n",
      "       'release_date.year', 'release_date.month', 'release_date.day-of-month',\n",
      "       'release_date.day-of-week'],\n",
      "      dtype='object', length=119)\n"
     ]
    }
   ],
   "source": [
    "print(bigml.columns)"
   ]
  },
  {
   "cell_type": "markdown",
   "metadata": {},
   "source": [
    "This is a good start, but there are some issues. First, there's an unnecessary amount of variables that can be concised or grouped together, especially the award vectors. Second, there's NaN values. Third, there's not enough data to work with if the goal is to predict which movies will be oscar NOMINEES and in which category.\n",
    "\n",
    "The first two issues are easily fixable later. To fix the third issue, let's start data scraping. "
   ]
  },
  {
   "cell_type": "markdown",
   "metadata": {},
   "source": [
    "### 1.2 Web-scraping movie lists from IMDB"
   ]
  },
  {
   "cell_type": "markdown",
   "metadata": {},
   "source": [
    "We can create a new python file called \"collect_data.py\" and add the following imports and function. If you're confused, refer to the github files.\n",
    "\n",
    "The following function, \"imdb_feature_film\", takes in a year from 2000~2018 and returns a dataframe of 350 movies scraped off of IMDB feature film lists, the year they were released, and their respective IMDB movie ids. I chose 350 movies every year simply because it looked like a good balance between having enough data and filtering out really, really weird + indie movies not likely to win Oscars anytime soon. You can change the number, however, by replacing 7 in the for loop with a different number.\n"
   ]
  },
  {
   "cell_type": "code",
   "execution_count": 31,
   "metadata": {},
   "outputs": [],
   "source": [
    "import numpy as np\n",
    "import pandas as pd\n",
    "import requests\n",
    "import re\n",
    "\n",
    "def imdb_feature_film(year):\n",
    "\t\"\"\"\n",
    "\tGiven a specific year (from 2000~2018), returns a dataframe of movies, their respective IMDB IDs, and release years.\n",
    "\tExample link where this function scrapes data from: https://www.imdb.com/year/2018/\n",
    "\t\"\"\"\n",
    "\tprint(year)\n",
    "\thtml = requests.get(\"https://www.imdb.com/year/\" + str(year)).text\n",
    "\n",
    "\tmovies = np.zeros((0, 2))\n",
    "\tfor i in range(0, 7):  # 7 pages of 50 movies each = 350 top movies\n",
    "\t\tmovies = np.concatenate([movies, np.flip(np.array(re.findall(r'<a href=\"/title/([^:?%]+?)/\"[\\r\\n]+> <img alt=\"([^%]+?)\"[\\r\\n]+', html)))])\n",
    "\t\tnextLink = \"https://www.imdb.com\" + re.findall(r'<a href=\"(/search/title\\?title_type=feature&year=(?:.*)&start=(?:.*))\"[\\r\\n]+class=\"lister-page-next next-page\"', html)[0]\n",
    "\t\thtml = requests.get(nextLink).text\n",
    "\n",
    "\tdf = pd.DataFrame(movies, columns=['movie', 'movie_id'])\n",
    "\tdf.insert(0, 'year', [year]*movies.shape[0], True)\n",
    "\treturn df\n"
   ]
  },
  {
   "cell_type": "markdown",
   "metadata": {},
   "source": [
    "Let's see the pandas dataframe of web-scraped movies from 2018 (It will take some time)."
   ]
  },
  {
   "cell_type": "code",
   "execution_count": 22,
   "metadata": {},
   "outputs": [
    {
     "name": "stdout",
     "output_type": "stream",
     "text": [
      "2018\n",
      "(350, 3)\n"
     ]
    },
    {
     "data": {
      "text/html": [
       "<div>\n",
       "<style scoped>\n",
       "    .dataframe tbody tr th:only-of-type {\n",
       "        vertical-align: middle;\n",
       "    }\n",
       "\n",
       "    .dataframe tbody tr th {\n",
       "        vertical-align: top;\n",
       "    }\n",
       "\n",
       "    .dataframe thead th {\n",
       "        text-align: right;\n",
       "    }\n",
       "</style>\n",
       "<table border=\"1\" class=\"dataframe\">\n",
       "  <thead>\n",
       "    <tr style=\"text-align: right;\">\n",
       "      <th></th>\n",
       "      <th>year</th>\n",
       "      <th>movie</th>\n",
       "      <th>movie_id</th>\n",
       "    </tr>\n",
       "  </thead>\n",
       "  <tbody>\n",
       "    <tr>\n",
       "      <th>0</th>\n",
       "      <td>2018</td>\n",
       "      <td>The Nun</td>\n",
       "      <td>tt5814060</td>\n",
       "    </tr>\n",
       "    <tr>\n",
       "      <th>1</th>\n",
       "      <td>2018</td>\n",
       "      <td>Incredibles 2</td>\n",
       "      <td>tt3606756</td>\n",
       "    </tr>\n",
       "    <tr>\n",
       "      <th>2</th>\n",
       "      <td>2018</td>\n",
       "      <td>Tell It to the Bees</td>\n",
       "      <td>tt7241926</td>\n",
       "    </tr>\n",
       "    <tr>\n",
       "      <th>3</th>\n",
       "      <td>2018</td>\n",
       "      <td>Bad Times at the El Royale</td>\n",
       "      <td>tt6628394</td>\n",
       "    </tr>\n",
       "    <tr>\n",
       "      <th>4</th>\n",
       "      <td>2018</td>\n",
       "      <td>Mission: Impossible - Fallout</td>\n",
       "      <td>tt4912910</td>\n",
       "    </tr>\n",
       "    <tr>\n",
       "      <th>5</th>\n",
       "      <td>2018</td>\n",
       "      <td>A Simple Favor</td>\n",
       "      <td>tt7040874</td>\n",
       "    </tr>\n",
       "    <tr>\n",
       "      <th>6</th>\n",
       "      <td>2018</td>\n",
       "      <td>Robin Hood</td>\n",
       "      <td>tt4532826</td>\n",
       "    </tr>\n",
       "    <tr>\n",
       "      <th>7</th>\n",
       "      <td>2018</td>\n",
       "      <td>Under the Silver Lake</td>\n",
       "      <td>tt5691670</td>\n",
       "    </tr>\n",
       "    <tr>\n",
       "      <th>8</th>\n",
       "      <td>2018</td>\n",
       "      <td>Goosebumps 2: Haunted Halloween</td>\n",
       "      <td>tt5664636</td>\n",
       "    </tr>\n",
       "    <tr>\n",
       "      <th>9</th>\n",
       "      <td>2018</td>\n",
       "      <td>Hereditary</td>\n",
       "      <td>tt7784604</td>\n",
       "    </tr>\n",
       "  </tbody>\n",
       "</table>\n",
       "</div>"
      ],
      "text/plain": [
       "   year                            movie   movie_id\n",
       "0  2018                          The Nun  tt5814060\n",
       "1  2018                    Incredibles 2  tt3606756\n",
       "2  2018              Tell It to the Bees  tt7241926\n",
       "3  2018       Bad Times at the El Royale  tt6628394\n",
       "4  2018    Mission: Impossible - Fallout  tt4912910\n",
       "5  2018                   A Simple Favor  tt7040874\n",
       "6  2018                       Robin Hood  tt4532826\n",
       "7  2018            Under the Silver Lake  tt5691670\n",
       "8  2018  Goosebumps 2: Haunted Halloween  tt5664636\n",
       "9  2018                       Hereditary  tt7784604"
      ]
     },
     "execution_count": 22,
     "metadata": {},
     "output_type": "execute_result"
    }
   ],
   "source": [
    "df_2018 = imdb_feature_film(2018)\n",
    "print(df_2018.shape)\n",
    "df_2018.head(10)"
   ]
  },
  {
   "cell_type": "markdown",
   "metadata": {},
   "source": [
    "Awesome, now we can move onto the next step, movie tags."
   ]
  },
  {
   "cell_type": "markdown",
   "metadata": {},
   "source": [
    "### 1.3 Web-scraping movie tags"
   ]
  },
  {
   "cell_type": "markdown",
   "metadata": {},
   "source": [
    "Now that we have the movies and thier IMDB movie ids, we can create a function that uses that information and regex to scrape important tags that we may need to build an accurate prediction algorithm. The tags, which are the same as the ones in the BIDML dataset, are listed as comments in the function."
   ]
  },
  {
   "cell_type": "code",
   "execution_count": 38,
   "metadata": {},
   "outputs": [],
   "source": [
    "def movie_tags(id):\n",
    "\t\"\"\"\n",
    "\tGiven a specific movie id (IMDB), returns a list of its tags/variables to be used as input variables.\n",
    "\t\"\"\"\n",
    "\thtml = requests.get(\"https://www.imdb.com/title/\" + id).text\n",
    "\t# ---------------TAGS---------------\n",
    "\t# certificate\n",
    "\t# duration\n",
    "\t# genre\n",
    "\t# rate\n",
    "\t# metascore\n",
    "\t# synopsis\n",
    "\t# votes\n",
    "\t# gross\n",
    "\t# user reviews\n",
    "\t# critic reviews\n",
    "\t# popularity\n",
    "\t# awards wins\n",
    "\t# awards nominations\n",
    "\n",
    "\tgenre = re.findall('\"genre\": ([\\s\\S]+),\\\\n[\\s\\S]+\"contentRating\":', html)\n",
    "\tcertificate = re.findall('\"contentRating\": \"(.*)\",\\\\n[\\s\\S]+<strong', html)\n",
    "\trate = re.findall('<strong title=\"(.*) based on ', html)\n",
    "\tvotes = re.findall('based on ([,0-9]+) user ratings\">', html)\n",
    "\tuser_reviews = re.findall('<span itemprop=\"reviewCount\">([,0-9]+) user</span>', html)\n",
    "\tcritic_reviews = re.findall('<span itemprop=\"reviewCount\">([,0-9]+) critic</span>', html)\n",
    "\tduration = re.findall('<time datetime=\"PT(\\d+)M\">\\\\n', html)\n",
    "\tkeywords = re.findall('<div class=\"summary_text\">\\\\n(.*)\\\\n', html)[0].strip()\n",
    "\tmetascore = re.findall('<div class=\"metacriticScore score_[\\w]+ titleReviewBarSubItem\">\\\\n<span>([0-9]+)<', html)\n",
    "\n",
    "\tif len(genre) == 0 or len(certificate) == 0 or len(rate) == 0 or len(votes) == 0 or len(user_reviews) == 0 or len(critic_reviews) == 0 or len(duration) == 0 or len(metascore) == 0:\n",
    "\t\treturn None\n",
    "\tgenre = ' '.join(genre[0].split()).replace('\"', '').replace('[ ', '').replace(' ]', '')\n",
    "\tcertificate = certificate[0]\n",
    "\trate = float(rate[0])\n",
    "\tvotes = int(votes[0].replace(',', ''))\n",
    "\tuser_reviews = int(user_reviews[0].replace(',', ''))\n",
    "\tcritic_reviews = int(critic_reviews[0].replace(',', ''))\n",
    "\tduration = int(duration[0].replace(',', ''))\n",
    "\tmetascore = int(metascore[0])\n",
    "\n",
    "\tpopularity = re.findall('titleReviewBarSubItem\">\\\\n<span>[0-9]+<[\\s\\S]+ ([,0-9]+)\\\\n[\\s\\S]+\\(<span class=\"titleOverviewSprite popularity', html)\n",
    "\tif len(popularity) == 0:\n",
    "\t\tpopularity = -1\n",
    "\telse:\n",
    "\t\tpopularity = int(popularity[0].replace(',', ''))\n",
    "\n",
    "\tawards_wins = re.findall('<span class=\"awards-blurb\">[\\s\\S]+ (\\d+) wins', html)\n",
    "\tif len(awards_wins) == 0:\n",
    "\t\tawards_wins = 0\n",
    "\telse:\n",
    "\t\tawards_wins = int(awards_wins[0])\n",
    "\n",
    "\tawards_nominations = re.findall('<span class=\"awards-blurb\">[\\s\\S]+ (\\d+) nominations', html)\n",
    "\tif len(awards_nominations) == 0:\n",
    "\t\tawards_nominations = 0\n",
    "\telse:\n",
    "\t\tawards_nominations = int(awards_nominations[0])\n",
    "\n",
    "\tgross = re.findall('Gross USA:</h4> \\$([,0-9]+)', html)\n",
    "\tif len(gross) == 0:\n",
    "\t\tgross = -1\n",
    "\telse:\n",
    "\t\tgross = int(gross[0].replace(',', ''))\n",
    "\n",
    "\ttags = [certificate, duration, genre, rate, metascore, keywords, votes, gross, user_reviews, critic_reviews,\n",
    "\t\t\tpopularity, awards_wins, awards_nominations]\n",
    "\treturn tags"
   ]
  },
  {
   "cell_type": "markdown",
   "metadata": {},
   "source": [
    "Again, let's check if the tags are correct using the movie 'Green Book', which won an Oscar for Best Picture this year (defintely recommend :))"
   ]
  },
  {
   "cell_type": "markdown",
   "metadata": {},
   "source": [
    "![Green Book](https://s20352.pcdn.co/wp-content/uploads/2018/11/green-book-GBK_Tsr1Sheet_RGB_3SM_rgb.jpg)"
   ]
  },
  {
   "cell_type": "code",
   "execution_count": 39,
   "metadata": {},
   "outputs": [
    {
     "name": "stdout",
     "output_type": "stream",
     "text": [
      "['PG-13', 130, 'Biography, Comedy, Drama, Music', 8.3, 69, 'A working-class Italian-American bouncer becomes the driver of an African-American classical pianist on a tour of venues through the 1960s American South.', 191157, 85080171, 1037, 362, 64, 50, 89]\n"
     ]
    }
   ],
   "source": [
    "tags = movie_tags('tt6966692')\n",
    "print(tags)"
   ]
  },
  {
   "cell_type": "markdown",
   "metadata": {},
   "source": [
    "Now that we have the movie tags, all that's left for data collection is the awards it won and was nominated for. Unfortunately, it's not so simple. Let's see why.\n",
    "\n",
    "First, we need to choose which award ceremonies' data we want to use for input. The Oscars results are what we want to predict, so they will be used for output labels."
   ]
  },
  {
   "cell_type": "code",
   "execution_count": null,
   "metadata": {},
   "outputs": [],
   "source": []
  }
 ],
 "metadata": {
  "kernelspec": {
   "display_name": "Python 3",
   "language": "python",
   "name": "python3"
  },
  "language_info": {
   "codemirror_mode": {
    "name": "ipython",
    "version": 3
   },
   "file_extension": ".py",
   "mimetype": "text/x-python",
   "name": "python",
   "nbconvert_exporter": "python",
   "pygments_lexer": "ipython3",
   "version": "3.6.8"
  }
 },
 "nbformat": 4,
 "nbformat_minor": 2
}
